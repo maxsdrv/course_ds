{
 "cells": [
  {
   "cell_type": "markdown",
   "id": "f297fa3e",
   "metadata": {},
   "source": [
    "# Программирование на языке Python\n",
    "## Семинар 4. Циклы\n",
    "#### Задача 1\n",
    "Напишите код, который бы выполнял операцию транспонирования матрицы. Решите задачу двумя способами."
   ]
  },
  {
   "cell_type": "code",
   "execution_count": 1,
   "id": "3a9e9e02",
   "metadata": {},
   "outputs": [],
   "source": [
    "# наш код здесь"
   ]
  },
  {
   "cell_type": "markdown",
   "id": "8601ce88",
   "metadata": {},
   "source": [
    "#### Задача 2\n",
    "В Excel существует функция [СЦЕПИТЬ](https://support.microsoft.com/ru-ru/office/%D1%84%D1%83%D0%BD%D0%BA%D1%86%D0%B8%D1%8F-%D1%81%D1%86%D0%B5%D0%BF%D0%B8%D1%82%D1%8C-8f8ae884-2ca8-4f7a-b093-75d702bea31d). Она позволяет объединять две или более текстовые строки в одну.\n",
    "\n",
    "Напишите код, который будет принимать на вход текстовые колонки (разделенные символом `'\\n'`) до тех пор, пока не будет введена пустая строка. Затем эти колонки должны быть \"склеены\" в одну через пробел и выведены для пользователя.\n",
    "\n",
    "```\n",
    "input:\n",
    "строка1\\nстрока2\\nстрока3\n",
    "row1\\nrow2\\nrow3\n",
    "\n",
    "\n",
    "output:\n",
    "строка1 row1\n",
    "строка2 row3\n",
    "строка3 row3\n",
    "```"
   ]
  },
  {
   "cell_type": "code",
   "execution_count": 2,
   "id": "dc3047d0",
   "metadata": {},
   "outputs": [],
   "source": [
    "# наш код здесь"
   ]
  },
  {
   "cell_type": "markdown",
   "id": "8dc24b34",
   "metadata": {},
   "source": [
    "#### Задача 3\n",
    "\n",
    "Дан текстовый файл (`Super.csv`). Необходимо создать словарь, в котором ключами будут названия колонок, а значениями - списки значений для этих колонок."
   ]
  },
  {
   "cell_type": "code",
   "execution_count": 3,
   "id": "e9fbe483",
   "metadata": {},
   "outputs": [],
   "source": [
    "with open('Super.csv', 'r') as infile:\n",
    "    big_string = infile.read()"
   ]
  },
  {
   "cell_type": "code",
   "execution_count": 4,
   "id": "9052ae37",
   "metadata": {},
   "outputs": [],
   "source": [
    "# наш код здесь"
   ]
  },
  {
   "cell_type": "markdown",
   "id": "65a2a375",
   "metadata": {},
   "source": [
    "#### Задача 4\n",
    "Напишите код, который бы принимал на вход словарь, полученный выше, и возвращал бы эту таблицу в HTML-формате. Должны быть использованы теги \\<table>, \\<thead>, \\<tbody>, \\<tr>, \\<th> и \\<td>."
   ]
  },
  {
   "cell_type": "code",
   "execution_count": 5,
   "id": "656cabae",
   "metadata": {},
   "outputs": [],
   "source": [
    "# наш код здесь"
   ]
  },
  {
   "cell_type": "code",
   "execution_count": 31,
   "id": "f474df03",
   "metadata": {},
   "outputs": [
    {
     "name": "stdout",
     "output_type": "stream",
     "text": [
      "4\n",
      "44\n",
      "444\n",
      "4444\n"
     ]
    }
   ],
   "source": [
    "N = 4 \n",
    "for i in range(1, N + 1):\n",
    "    for j in range(1, i + 1):\n",
    "        print(N, sep='', end='')\n",
    "    print()\n"
   ]
  },
  {
   "cell_type": "code",
   "execution_count": 32,
   "id": "986e1cb3",
   "metadata": {},
   "outputs": [
    {
     "name": "stdout",
     "output_type": "stream",
     "text": [
      "Product 1, weight: 10 -passenger car\n",
      "Product 2, weight: 42.4 -passenger car\n",
      "Product 3, weight: 240.1 -truck\n",
      "Product 4, weight: 101.5 -truck\n",
      "Product 5, weight: 98 -passenger car\n",
      "Product 6, weight: 0.4 -passenger car\n",
      "Product 7, weight: 0.3 -passenger car\n",
      "Product 8, weight: 15 -passenger car\n"
     ]
    }
   ],
   "source": [
    "weight_of_products = [10, 42.4, 240.1, 101.5, 98, 0.4, 0.3, 15]\n",
    "max_weight = 100\n",
    "num = 1\n",
    "for weight in weight_of_products:\n",
    "    if weight < max_weight:\n",
    "        print(\"Product {}, weight: {} -passenger car\".format(num, weight))\n",
    "    else:\n",
    "        print(\"Product {}, weight: {} -truck\".format(num, weight))\n",
    "    num += 1\n"
   ]
  },
  {
   "cell_type": "code",
   "execution_count": 35,
   "id": "5153cf3b",
   "metadata": {},
   "outputs": [
    {
     "name": "stdout",
     "output_type": "stream",
     "text": [
      "MynameisMaxim\n"
     ]
    }
   ],
   "source": [
    "\n",
    "word_list = [\"My\", \"name\", \"is\", \"Maxim\"]\n",
    "# str = \"\"\n",
    "for i in word_list:\n",
    "    # str += i\n",
    "\n",
    "# print(str)"
   ]
  },
  {
   "cell_type": "code",
   "execution_count": 36,
   "id": "b22db2a9",
   "metadata": {},
   "outputs": [
    {
     "name": "stdout",
     "output_type": "stream",
     "text": [
      "-5\n",
      "1\n",
      "3\n",
      "10\n"
     ]
    }
   ],
   "source": [
    "num_list = [1, 10, 3, -5]\n",
    "num_list.sort()\n",
    "\n",
    "for i in num_list:\n",
    "    print(i)"
   ]
  },
  {
   "cell_type": "code",
   "execution_count": 37,
   "id": "9ab82475",
   "metadata": {},
   "outputs": [
    {
     "name": "stdout",
     "output_type": "stream",
     "text": [
      "17\n"
     ]
    }
   ],
   "source": [
    "my_list = list(range(0, 100, 3))\n",
    "count_even = 0\n",
    "for i in my_list:\n",
    "    if i % 2 == 0:\n",
    "        count_even += 1\n",
    "print(count_even)\n"
   ]
  },
  {
   "cell_type": "code",
   "execution_count": 46,
   "id": "b2d09e0e",
   "metadata": {},
   "outputs": [
    {
     "name": "stdout",
     "output_type": "stream",
     "text": [
      "3\n"
     ]
    }
   ],
   "source": [
    "count_str = 0\n",
    "my_list = [True, 1, -10, 'hello', False, 'string_1', 123, 2.5, [1, 2], 'another']\n",
    "for i in my_list:\n",
    "    if type(i) == type(str):\n",
    "        count_str += 1\n",
    "print(count_str)"
   ]
  },
  {
   "cell_type": "code",
   "execution_count": 59,
   "id": "25bf4928",
   "metadata": {},
   "outputs": [
    {
     "name": "stdout",
     "output_type": "stream",
     "text": [
      "5040\n"
     ]
    }
   ],
   "source": [
    "i = 1\n",
    "n = 0\n",
    "while i <= 1000:\n",
    "    i *= n + 1\n",
    "    n += 1\n",
    "\n",
    "print(i)"
   ]
  },
  {
   "cell_type": "code",
   "execution_count": 62,
   "id": "40518fae",
   "metadata": {},
   "outputs": [
    {
     "name": "stdout",
     "output_type": "stream",
     "text": [
      "6\n"
     ]
    }
   ],
   "source": [
    "itr = 0\n",
    "n = 1\n",
    "i = 3\n",
    "while 3 ** n < 1000:\n",
    "    n += 1\n",
    "    itr += 1\n",
    "\n",
    "print(itr)"
   ]
  },
  {
   "cell_type": "code",
   "execution_count": 73,
   "id": "a9dbc2ca",
   "metadata": {},
   "outputs": [
    {
     "name": "stdout",
     "output_type": "stream",
     "text": [
      "15\n"
     ]
    }
   ],
   "source": [
    "years = 0\n",
    "summ = 1000\n",
    "end = 3000.0\n",
    "\n",
    "while summ < end:\n",
    "    summ = summ + (summ * 8) / 100\n",
    "    years += 1\n",
    "\n",
    "print(years)"
   ]
  },
  {
   "cell_type": "code",
   "execution_count": 74,
   "id": "d084300b",
   "metadata": {},
   "outputs": [
    {
     "name": "stdout",
     "output_type": "stream",
     "text": [
      "There are 1 people in the room\n",
      "There are 2 people in the room\n",
      "There are 3 people in the room\n",
      "There are 4 people in the room\n",
      "There are 5 people in the room\n"
     ]
    }
   ],
   "source": [
    "max_people = 5\n",
    "i = 0\n",
    "while i < max_people:\n",
    "    i += 1\n",
    "    print(\"There are\", i, \"people in the room\")\n"
   ]
  },
  {
   "cell_type": "code",
   "execution_count": 78,
   "id": "ad30a503",
   "metadata": {},
   "outputs": [
    {
     "name": "stdout",
     "output_type": "stream",
     "text": [
      "20\n"
     ]
    }
   ],
   "source": [
    "scores = [\n",
    "    [0.5, 0.6, 0.6, 0.65, 0.3],\n",
    "    [0.55, 0.7, 0.9, 0.5, 0.5]\n",
    "]\n",
    "\n",
    "count = 0\n",
    "for i in range(5):\n",
    "    for j in range(4):\n",
    "        count += 1\n",
    "\n",
    "scores_lst = []\n",
    "for row in scores:\n",
    "    for score in row:\n",
    "        scores_lst.append(score)\n",
    "print(scores_lst)"
   ]
  },
  {
   "cell_type": "code",
   "execution_count": 103,
   "id": "67cf4ca8",
   "metadata": {},
   "outputs": [
    {
     "name": "stdout",
     "output_type": "stream",
     "text": [
      "Matrix not square\n"
     ]
    }
   ],
   "source": [
    "test_matrix1 = [\n",
    "    [1, 2, 3],\n",
    "    [7, -1, 2],\n",
    "    [123, 2, -1]\n",
    "]\n",
    "test_matrix2 = [\n",
    "    [1, 2, 3],\n",
    "    [7, -1, 2],\n",
    "    [123, 2, -1],\n",
    "    [123, 5, 1]\n",
    "]\n",
    "a = type(int)\n",
    "f = type(bool)\n",
    "for i in test_matrix1:\n",
    "    a = len(i)\n",
    "    f = (a != len(test_matrix1))\n",
    "    if f:\n",
    "        print(\"Matrix not square\")\n",
    "        break\n",
    "\n",
    "if f == False:\n",
    "    print(\"Matrix square\")\n"
   ]
  },
  {
   "cell_type": "code",
   "execution_count": 105,
   "id": "ff9fb7b1",
   "metadata": {},
   "outputs": [
    {
     "name": "stdout",
     "output_type": "stream",
     "text": [
      "1 -5\n",
      "2 2\n",
      "3 4\n",
      "4 8\n",
      "5 12\n",
      "6 -7\n",
      "7 5\n"
     ]
    }
   ],
   "source": [
    "user_dynamics = [-5, 2, 4, 8, 12, -7, 5]\n",
    "\n",
    "for index, value in enumerate(user_dynamics):\n",
    "    print(index + 1, value)"
   ]
  },
  {
   "cell_type": "code",
   "execution_count": 115,
   "id": "b8d8550c",
   "metadata": {},
   "outputs": [
    {
     "name": "stdout",
     "output_type": "stream",
     "text": [
      "[[0, 'Hel'], [1, 'my'], [2, 'nam'], [3, 'is'], [4, 'Eze'], [5, 'I'], [6, 'lik'], [7, 'kni']]\n"
     ]
    }
   ],
   "source": [
    "str_list = ['Hello', 'my', 'name', 'is', 'Ezeikel', 'I', 'like', 'knitting']\n",
    "cut_str_list = []\n",
    "for index, value in enumerate(str_list):\n",
    "    if len(value) < 3:\n",
    "       cut_str_list.append([index, value]) \n",
    "    else:\n",
    "        cut_str_list.append([index, value[:3]])\n",
    "\n",
    "print(cut_str_list)"
   ]
  },
  {
   "cell_type": "code",
   "execution_count": 25,
   "id": "e3632567",
   "metadata": {},
   "outputs": [
    {
     "name": "stdout",
     "output_type": "stream",
     "text": [
      "{'a': 3, 'robot': 1, 'may': 1, 'not': 1, 'injure': 1, 'human': 2, 'being': 2, 'or': 1, 'through': 1, 'inaction': 1, 'allow': 1, 'to': 2, 'come': 1, 'harm': 1}\n"
     ]
    }
   ],
   "source": [
    "sentence = 'A roboT MAY Not injure a humAn BEING or, tHROugh INACtion, allow a human BEING to come to harm'\n",
    "small_sentence = sentence.lower()\n",
    "out_punct_sentence = small_sentence.replace(\",\", \"\")\n",
    "word_list = out_punct_sentence.split(\" \")\n",
    "word_dict = dict()\n",
    "\n",
    "for word in word_list:\n",
    "    if word in word_dict:\n",
    "        word_dict[word] += 1\n",
    "    else:\n",
    "        word_dict[word] = 1\n",
    "\n",
    "print(word_dict)\n",
    "\n",
    "\n"
   ]
  },
  {
   "cell_type": "code",
   "execution_count": 32,
   "id": "877bf090",
   "metadata": {},
   "outputs": [
    {
     "name": "stdout",
     "output_type": "stream",
     "text": [
      "{'text': 2, 'morning': 0, 'notepad': 1, 'television': 1, 'ornament': 1}\n"
     ]
    }
   ],
   "source": [
    "str_list = [\"text\", \"morning\", \"notepad\", \"television\", \"ornament\"]\n",
    "symbol_to_check = 't'\n",
    "new_word_dict = dict()\n",
    "for i in str_list:\n",
    "    new_word_dict[i] = i.count(symbol_to_check)\n",
    "\n",
    "\n",
    "print(new_word_dict)\n",
    "\n",
    "\n"
   ]
  }
 ],
 "metadata": {
  "kernelspec": {
   "display_name": "Python 3 (ipykernel)",
   "language": "python",
   "name": "python3"
  },
  "language_info": {
   "codemirror_mode": {
    "name": "ipython",
    "version": 3
   },
   "file_extension": ".py",
   "mimetype": "text/x-python",
   "name": "python",
   "nbconvert_exporter": "python",
   "pygments_lexer": "ipython3",
   "version": "3.10.6"
  }
 },
 "nbformat": 4,
 "nbformat_minor": 5
}
